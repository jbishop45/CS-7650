{
  "nbformat": 4,
  "nbformat_minor": 0,
  "metadata": {
    "colab": {
      "provenance": [],
      "include_colab_link": true
    },
    "kernelspec": {
      "name": "python3",
      "display_name": "Python 3"
    },
    "accelerator": "GPU"
  },
  "cells": [
    {
      "cell_type": "markdown",
      "metadata": {
        "id": "view-in-github",
        "colab_type": "text"
      },
      "source": [
        "<a href=\"https://colab.research.google.com/github/jbishop45/CS-7650/blob/project-3/CS7650_p3_release_sp23.ipynb\" target=\"_parent\"><img src=\"https://colab.research.google.com/assets/colab-badge.svg\" alt=\"Open In Colab\"/></a>"
      ]
    },
    {
      "cell_type": "code",
      "metadata": {
        "id": "MA4r_0ZqcSfc"
      },
      "source": [
        "# Licensing Information:  You are free to use or extend this project for\n",
        "# educational purposes provided that (1) you do not distribute or publish\n",
        "# solutions, (2) you retain this notice, and (3) you provide clear\n",
        "# attribution to The Georgia Institute of Technology, including a link to https://aritter.github.io/CS-7650/\n",
        "\n",
        "# Attribution Information: \n",
        "# Part of this Project was developed at the Georgia Institute of Technology by Ashutosh Baheti (ashutosh.baheti@cc.gatech.edu), \n",
        "# borrowing  from the Neural Machine Translation Project (Project 2) \n",
        "# of the UC Berkeley NLP course https://cal-cs288.github.io/sp20/"
      ],
      "execution_count": null,
      "outputs": []
    },
    {
      "cell_type": "markdown",
      "metadata": {
        "id": "AxiBjiN7caiJ"
      },
      "source": [
        "# Project #3: Neural Chatbot\n",
        "\n",
        "\n",
        "\n"
      ]
    },
    {
      "cell_type": "markdown",
      "metadata": {
        "id": "qCA9aMQxcjoc"
      },
      "source": [
        "Neural Dialog Model are Sequence-to-Sequence (Seq2Seq) models that produce conversational response given the dialog history. State-of-the-art dialog models are trained on millions of multi-turn conversations. However, in this assignment we will narrow our scope to single turn conversations to make the problem easier.  \n",
        "\n",
        "In this assignment you will implement,\n",
        "1. Seq2Seq encoder-decoder model\n",
        "2. Seq2Seq model with attention mechanism\n",
        "3. Greedy and Beam search decoding algorithms  "
      ]
    },
    {
      "cell_type": "markdown",
      "metadata": {
        "id": "D0xB9Vlheg6c"
      },
      "source": [
        "First import libraries required for the implementation"
      ]
    },
    {
      "cell_type": "code",
      "metadata": {
        "id": "TIkNu1zhLAtR"
      },
      "source": [
        "from __future__ import absolute_import\n",
        "from __future__ import division\n",
        "from __future__ import print_function\n",
        "from __future__ import unicode_literals\n",
        "\n",
        "import torch\n",
        "from torch.jit import script, trace\n",
        "import torch.nn as nn\n",
        "from torch import optim\n",
        "import torch.nn.functional as F\n",
        "import numpy as np\n",
        "import csv\n",
        "import random\n",
        "import re\n",
        "import os\n",
        "import unicodedata\n",
        "import codecs\n",
        "from io import open\n",
        "import itertools\n",
        "import math\n",
        "import pickle\n",
        "import statistics\n",
        "\n",
        "from torch.utils.data import Dataset, DataLoader\n",
        "from torch.nn.utils.rnn import pad_sequence\n",
        "import tqdm\n",
        "import nltk\n",
        "from google.colab import files"
      ],
      "execution_count": null,
      "outputs": []
    },
    {
      "cell_type": "markdown",
      "metadata": {
        "id": "E3ny4wUTeqW2"
      },
      "source": [
        "Then we implement some standard util functions that will be useful in the rest of the code."
      ]
    },
    {
      "cell_type": "code",
      "metadata": {
        "id": "SRA1Fu5vLWtB"
      },
      "source": [
        "# General util functions\n",
        "def make_dir_if_not_exists(directory):\n",
        "\tif not os.path.exists(directory):\n",
        "\t\tlogging.info(\"Creating new directory: {}\".format(directory))\n",
        "\t\tos.makedirs(directory)\n",
        "\n",
        "def print_list(l, K=None):\n",
        "\t# If K is given then only print first K\n",
        "\tfor i, e in enumerate(l):\n",
        "\t\tif i == K:\n",
        "\t\t\tbreak\n",
        "\t\tprint(e)\n",
        "\tprint()\n",
        "\n",
        "def remove_multiple_spaces(string):\n",
        "\treturn re.sub(r'\\s+', ' ', string).strip()\n",
        "\n",
        "def save_in_pickle(save_object, save_file):\n",
        "\twith open(save_file, \"wb\") as pickle_out:\n",
        "\t\tpickle.dump(save_object, pickle_out)\n",
        "\n",
        "def load_from_pickle(pickle_file):\n",
        "\twith open(pickle_file, \"rb\") as pickle_in:\n",
        "\t\treturn pickle.load(pickle_in)\n",
        "\n",
        "def save_in_txt(list_of_strings, save_file):\n",
        "\twith open(save_file, \"w\") as writer:\n",
        "\t\tfor line in list_of_strings:\n",
        "\t\t\tline = line.strip()\n",
        "\t\t\twriter.write(f\"{line}\\n\")\n",
        "\n",
        "def load_from_txt(txt_file):\n",
        "\twith open(txt_file, \"r\") as reader:\n",
        "\t\tall_lines = list()\n",
        "\t\tfor line in reader:\n",
        "\t\t\tline = line.strip()\n",
        "\t\t\tall_lines.append(line)\n",
        "\t\treturn all_lines"
      ],
      "execution_count": null,
      "outputs": []
    },
    {
      "cell_type": "markdown",
      "metadata": {
        "id": "K9Mi3azJe0I8"
      },
      "source": [
        "Finally we will check if GPU is available and set the device accordingly.\n",
        "\n",
        "Tip: While debugging use `CPU` and change the runtime type to `GPU` when you are ready to train your models to efficiently use free Colab GPU"
      ]
    },
    {
      "cell_type": "code",
      "metadata": {
        "id": "VFOWkGQdNUUo"
      },
      "source": [
        "print(torch.cuda.is_available())\n",
        "if torch.cuda.is_available():\n",
        "  device = torch.device(\"cuda\")\n",
        "else:\n",
        "  device = torch.device(\"cpu\")\n",
        "print(\"Using device:\", device)"
      ],
      "execution_count": null,
      "outputs": []
    },
    {
      "cell_type": "markdown",
      "metadata": {
        "id": "pA4RhP1Rfegu"
      },
      "source": [
        "## Dataset"
      ]
    },
    {
      "cell_type": "markdown",
      "metadata": {
        "id": "Sjw3wbo8fipA"
      },
      "source": [
        "For the dataset we will be using a small sample of single turn input and \n",
        "response pairs from [Cornell Movie Dialog Corpus](https://www.cs.cornell.edu/~cristian/Cornell_Movie-Dialogs_Corpus.html). We filter conversational pairs with sentences > 10 tokens. To reduce your work, we have already created a sample of tokenized, lowercased single turn conversations from Cornell Movie Dialog Corpus. The preprocessed dataset sample is stored in pickle format and can be downloaded from [this link](https://drive.google.com/file/d/1qYdSlDJ89AvgozK3V5tik8Op93zPbG6e/view?usp=sharing). Please download the `processed_CMDC.pkl` file from the link and upload it in colab."
      ]
    },
    {
      "cell_type": "code",
      "metadata": {
        "id": "9l4KOwIsNWqb"
      },
      "source": [
        "# Loading the pre-processed conversational exchanges (source-target pairs) from pickle data files\n",
        "all_conversations = load_from_pickle(\"processed_CMDC.pkl\")\n",
        "# Extract 100 conversations from the end for evaluation and keep the rest for training\n",
        "eval_conversations = all_conversations[-100:]\n",
        "all_conversations = all_conversations[:-100]\n",
        "\n",
        "# Logging data stats\n",
        "print(f\"Number of Training Conversation Pairs = {len(all_conversations)}\")\n",
        "print(f\"Number of Evaluation Conversation Pairs = {len(eval_conversations)}\")"
      ],
      "execution_count": null,
      "outputs": []
    },
    {
      "cell_type": "markdown",
      "metadata": {
        "id": "OHI2pdQDgoEB"
      },
      "source": [
        "Let's print a couple of conversations to check if they are loaded properly."
      ]
    },
    {
      "cell_type": "code",
      "metadata": {
        "id": "MACN38BoN7OQ"
      },
      "source": [
        "print_list(all_conversations, 5)"
      ],
      "execution_count": null,
      "outputs": []
    },
    {
      "cell_type": "markdown",
      "metadata": {
        "id": "QYKyOii3p0Hb"
      },
      "source": [
        "## Vocabulary"
      ]
    },
    {
      "cell_type": "markdown",
      "metadata": {
        "id": "2Bqccrbvgugd"
      },
      "source": [
        "The words in the sentences need to be converted into integer tokens so that the neural model can operate on them. For this purpose, we will create a vocabulary which will convert the input strings into model recognizable integer tokens."
      ]
    },
    {
      "cell_type": "code",
      "metadata": {
        "id": "3zfGojqcqmLK"
      },
      "source": [
        "pad_word = \"<pad>\"\n",
        "bos_word = \"<s>\"\n",
        "eos_word = \"</s>\"\n",
        "unk_word = \"<unk>\"\n",
        "pad_id = 0\n",
        "bos_id = 1\n",
        "eos_id = 2\n",
        "unk_id = 3\n",
        "    \n",
        "def normalize_sentence(s):\n",
        "    s = re.sub(r\"([.!?])\", r\" \\1\", s)\n",
        "    s = re.sub(r\"[^a-zA-Z.!?]+\", r\" \", s)\n",
        "    s = re.sub(r\"\\s+\", r\" \", s).strip()\n",
        "    return s\n",
        "\n",
        "class Vocabulary:\n",
        "    def __init__(self):\n",
        "        self.word_to_id = {pad_word: pad_id, bos_word: bos_id, eos_word:eos_id, unk_word: unk_id}\n",
        "        self.word_count = {}\n",
        "        self.id_to_word = {pad_id: pad_word, bos_id: bos_word, eos_id: eos_word, unk_id: unk_word}\n",
        "        self.num_words = 4\n",
        "    \n",
        "    def get_ids_from_sentence(self, sentence):\n",
        "        sentence = normalize_sentence(sentence)\n",
        "        sent_ids = [bos_id] + [self.word_to_id[word] if word in self.word_to_id \\\n",
        "                               else unk_id for word in sentence.split()] + \\\n",
        "                               [eos_id]\n",
        "        return sent_ids\n",
        "    \n",
        "    def tokenized_sentence(self, sentence):\n",
        "        sent_ids = self.get_ids_from_sentence(sentence)\n",
        "        return [self.id_to_word[word_id] for word_id in sent_ids]\n",
        "\n",
        "    def decode_sentence_from_ids(self, sent_ids):\n",
        "        words = list()\n",
        "        for i, word_id in enumerate(sent_ids):\n",
        "            if word_id in [bos_id, eos_id, pad_id]:\n",
        "                # Skip these words\n",
        "                continue\n",
        "            else:\n",
        "                words.append(self.id_to_word[word_id])\n",
        "        return ' '.join(words)\n",
        "\n",
        "    def add_words_from_sentence(self, sentence):\n",
        "        sentence = normalize_sentence(sentence)\n",
        "        for word in sentence.split():\n",
        "            if word not in self.word_to_id:\n",
        "                # add this word to the vocabulary\n",
        "                self.word_to_id[word] = self.num_words\n",
        "                self.id_to_word[self.num_words] = word\n",
        "                self.word_count[word] = 1\n",
        "                self.num_words += 1\n",
        "            else:\n",
        "                # update the word count\n",
        "                self.word_count[word] += 1\n",
        "\n",
        "vocab = Vocabulary()\n",
        "for src, tgt in all_conversations:\n",
        "    vocab.add_words_from_sentence(src)\n",
        "    vocab.add_words_from_sentence(tgt)\n",
        "print(f\"Total words in the vocabulary = {vocab.num_words}\")"
      ],
      "execution_count": null,
      "outputs": []
    },
    {
      "cell_type": "markdown",
      "metadata": {
        "id": "LBouL7ZHyvxM"
      },
      "source": [
        "Let's print top 30 vocab words:"
      ]
    },
    {
      "cell_type": "code",
      "metadata": {
        "id": "1dlNBVwc0dzI"
      },
      "source": [
        "print_list(sorted(vocab.word_count.items(), key=lambda item: item[1], reverse=True), 30)"
      ],
      "execution_count": null,
      "outputs": []
    },
    {
      "cell_type": "markdown",
      "metadata": {
        "id": "p52g6zoE3b8R"
      },
      "source": [
        "Print a couple of sentences to verify that the vocabulary is working as intended."
      ]
    },
    {
      "cell_type": "code",
      "metadata": {
        "id": "BIZG1fmA1BED"
      },
      "source": [
        "for src, tgt in all_conversations[:3]:\n",
        "    sentence = tgt\n",
        "    word_tokens = vocab.tokenized_sentence(sentence)\n",
        "    # Automatically adds bos_id and eos_id before and after sentence ids respectively\n",
        "    word_ids = vocab.get_ids_from_sentence(sentence)\n",
        "    print(sentence)\n",
        "    print(word_tokens)\n",
        "    print(word_ids)\n",
        "    print(vocab.decode_sentence_from_ids(word_ids))\n",
        "    print()\n",
        "\n",
        "word = \"the\"\n",
        "word_id = vocab.word_to_id[word]\n",
        "print(f\"Word = {word}\")\n",
        "print(f\"Word ID = {word_id}\")\n",
        "print(f\"Word decoded from ID = {vocab.decode_sentence_from_ids([word_id])}\")"
      ],
      "execution_count": null,
      "outputs": []
    },
    {
      "cell_type": "markdown",
      "metadata": {
        "id": "jVbxmW8N3qL4"
      },
      "source": [
        "## Dataset Prepration (5 points)"
      ]
    },
    {
      "cell_type": "markdown",
      "metadata": {
        "id": "rre6BLuah8w-"
      },
      "source": [
        "We will use built-in dataset utilities, `torch.utils.data.Dataset` and `torch.utils.data.DataLoader`, to get batched data readily useful for training."
      ]
    },
    {
      "cell_type": "code",
      "metadata": {
        "id": "92DIBSL43pJT"
      },
      "source": [
        "class SingleTurnMovieDialog_dataset(Dataset):\n",
        "    \"\"\"Single-Turn version of Cornell Movie Dialog Cropus dataset.\"\"\"\n",
        "\n",
        "    def __init__(self, conversations, vocab, device):\n",
        "        \"\"\"\n",
        "        Args:\n",
        "            conversations: list of tuple (src_string, tgt_string) \n",
        "                         - src_string: String of the source sentence\n",
        "                         - tgt_string: String of the target sentence\n",
        "            vocab: Vocabulary object that contains the mapping of \n",
        "                    words to indices\n",
        "            device: cpu or cuda\n",
        "        \"\"\"\n",
        "        self.conversations = conversations\n",
        "        self.vocab = vocab\n",
        "        self.device = device\n",
        "\n",
        "        def encode(src, tgt):\n",
        "            src_ids = self.vocab.get_ids_from_sentence(src)\n",
        "            tgt_ids = self.vocab.get_ids_from_sentence(tgt)\n",
        "            return (src_ids, tgt_ids)\n",
        "\n",
        "        # We will pre-tokenize the conversations and save in id lists for later use\n",
        "        self.tokenized_conversations = [encode(src, tgt) for src, tgt in self.conversations]\n",
        "        \n",
        "    def __len__(self):\n",
        "        return len(self.conversations)\n",
        "\n",
        "    def __getitem__(self, idx):\n",
        "        if torch.is_tensor(idx):\n",
        "            idx = idx.tolist()\n",
        "\n",
        "        return {\"conv_ids\":self.tokenized_conversations[idx], \"conv\":self.conversations[idx]}\n",
        "\n",
        "def collate_fn(data):\n",
        "    \"\"\"Creates mini-batch tensors from the list of tuples (src_seq, tgt_seq).\n",
        "    We should build a custom collate_fn rather than using default collate_fn,\n",
        "    because merging sequences (including padding) is not supported in default.\n",
        "    Seqeuences are padded to the maximum length of mini-batch sequences (dynamic padding).\n",
        "    Args:\n",
        "        data: list of dicts {\"conv_ids\":(src_ids, tgt_ids), \"conv\":(src_str, trg_str)}.\n",
        "            - src_ids: list of src piece ids; variable length.\n",
        "            - tgt_ids: list of tgt piece ids; variable length.\n",
        "            - src_str: String of src\n",
        "            - tgt_str: String of tgt\n",
        "    Returns: dict { \"conv_ids\":     (src_ids, tgt_ids), \n",
        "                    \"conv\":         (src_str, tgt_str), \n",
        "                    \"conv_tensors\": (src_seqs, tgt_seqs)}\n",
        "            src_seqs: torch tensor of shape (src_padded_length, batch_size).\n",
        "            tgt_seqs: torch tensor of shape (tgt_padded_length, batch_size).\n",
        "            src_padded_length = length of the longest src sequence from src_ids\n",
        "            tgt_padded_length = length of the longest tgt sequence from tgt_ids\n",
        "    \"\"\"\n",
        "    # Sort conv_ids based on decreasing order of the src_lengths.\n",
        "    # This is required for efficient GPU computations.\n",
        "    src_ids = [torch.LongTensor(e[\"conv_ids\"][0]) for e in data]\n",
        "    tgt_ids = [torch.LongTensor(e[\"conv_ids\"][1]) for e in data]\n",
        "    src_str = [e[\"conv\"][0] for e in data]\n",
        "    tgt_str = [e[\"conv\"][1] for e in data]\n",
        "    data = list(zip(src_ids, tgt_ids, src_str, tgt_str))\n",
        "    data.sort(key=lambda x: len(x[0]), reverse=True)\n",
        "    src_ids, tgt_ids, src_str, tgt_str = zip(*data)\n",
        "\n",
        "\n",
        "    # Pad the src_ids and tgt_ids using token pad_id to create src_seqs and tgt_seqs\n",
        "    \n",
        "    # Implementation tip: You can use the nn.utils.rnn.pad_sequence utility\n",
        "    # function to combine a list of variable-length sequences with padding.\n",
        "    \n",
        "    # YOUR CODE HERE\n",
        "    ...\n",
        "    \n",
        "    src_padded_length = len(src_seqs[0])\n",
        "    tgt_padded_length = len(tgt_seqs[0])\n",
        "    return {\"conv_ids\":(src_ids, tgt_ids), \"conv\":(src_str, tgt_str), \"conv_tensors\":(src_seqs.to(device), tgt_seqs.to(device))}"
      ],
      "execution_count": null,
      "outputs": []
    },
    {
      "cell_type": "code",
      "metadata": {
        "id": "lAQ26bgF4GT1"
      },
      "source": [
        "# Create the DataLoader for all_conversations\n",
        "dataset = SingleTurnMovieDialog_dataset(all_conversations, vocab, device)\n",
        "\n",
        "batch_size = 5\n",
        "\n",
        "data_loader = DataLoader(dataset=dataset, batch_size=batch_size, \n",
        "                               shuffle=True, collate_fn=collate_fn)"
      ],
      "execution_count": null,
      "outputs": []
    },
    {
      "cell_type": "markdown",
      "metadata": {
        "id": "-DC5oaHF4Mn6"
      },
      "source": [
        "Let's test a batch of data to make sure everything is working as intended"
      ]
    },
    {
      "cell_type": "code",
      "metadata": {
        "id": "y8vYxSJl4NNp"
      },
      "source": [
        "# Test one batch of training data\n",
        "first_batch = next(iter(data_loader))\n",
        "print(f\"Testing first training batch of size {len(first_batch['conv'][0])}\")\n",
        "print(f\"List of source strings:\")\n",
        "print_list(first_batch[\"conv\"][0])\n",
        "print(f\"Tokenized source ids:\")\n",
        "print_list(first_batch[\"conv_ids\"][0])\n",
        "print(f\"Padded source ids as tensor (shape {first_batch['conv_tensors'][0].size()}):\")\n",
        "print(first_batch[\"conv_tensors\"][0])"
      ],
      "execution_count": null,
      "outputs": []
    },
    {
      "cell_type": "markdown",
      "metadata": {
        "id": "fHMAx6Zym_NS"
      },
      "source": [
        "## Baseline Seq2Seq model (25 points)"
      ]
    },
    {
      "cell_type": "markdown",
      "metadata": {
        "id": "WcjfWInLnIsz"
      },
      "source": [
        "With the training `Dataset` and `DataLoader` ready, we can implement our Seq2Seq baseline model. \n",
        "\n",
        "The model will consist of\n",
        "1. Shared embedding layer between encoder and decoder that converts the input sequence of word ids to dense embedding representations\n",
        "2. Bidirectional GRU encoder that encodes the embedded source sequence into hidden representation\n",
        "3. GRU decoder that predicts target sequence using final encoder hidden representation"
      ]
    },
    {
      "cell_type": "code",
      "metadata": {
        "id": "s4QitXM9Szr9"
      },
      "source": [
        "class Seq2seqBaseline(nn.Module):\n",
        "    def __init__(self, vocab, emb_dim = 300, hidden_dim = 300, num_layers = 2, dropout=0.1):\n",
        "        super().__init__()\n",
        "\n",
        "        # Initialize your model's parameters here. To get started, we suggest\n",
        "        # setting all embedding and hidden dimensions to 300, using encoder and\n",
        "        # decoder GRUs with 2 layers, and using a dropout rate of 0.1.\n",
        "\n",
        "        # Implementation tip: To create a bidirectional GRU, you don't need to\n",
        "        # create two GRU networks. Instead use nn.GRU(..., bidirectional=True).\n",
        "        \n",
        "        self.num_words = num_words = vocab.num_words\n",
        "        self.emb_dim = emb_dim\n",
        "        self.hidden_dim = hidden_dim\n",
        "        self.num_layers = num_layers\n",
        "        # YOUR CODE HERE\n",
        "        ...\n",
        "\n",
        "    def encode(self, source):\n",
        "        \"\"\"Encode the source batch using a bidirectional GRU encoder.\n",
        "\n",
        "        Args:\n",
        "            source: An integer tensor with shape (max_src_sequence_length,\n",
        "                batch_size) containing subword indices for the source sentences.\n",
        "\n",
        "        Returns:\n",
        "            A tuple with three elements:\n",
        "                encoder_output: The output hidden representation of the encoder \n",
        "                    with shape (max_src_sequence_length, batch_size, hidden_size).\n",
        "                    Can be obtained by adding the hidden representations of both \n",
        "                    directions of the encoder bidirectional GRU. \n",
        "                encoder_mask: A boolean tensor with shape (max_src_sequence_length,\n",
        "                    batch_size) indicating which encoder outputs correspond to padding\n",
        "                    tokens. Its elements should be True at positions corresponding to\n",
        "                    padding tokens and False elsewhere.\n",
        "                encoder_hidden: The final hidden states of the bidirectional GRU \n",
        "                    (after a suitable projection) that will be used to initialize \n",
        "                    the decoder. This should be a tensor h_n with shape \n",
        "                    (num_layers, batch_size, hidden_size). Note that the hidden \n",
        "                    state returned by the bi-GRU cannot be used directly. Its \n",
        "                    initial dimension is twice the required size because it \n",
        "                    contains state from two directions.\n",
        "\n",
        "        The first two return values are not required for the baseline model and will\n",
        "        only be used later in the attention model. If desired, they can be replaced\n",
        "        with None for the initial implementation.\n",
        "        \"\"\"\n",
        "\n",
        "        # Implementation tip: consider using packed sequences to more easily work\n",
        "        # with the variable-length sequences represented by the source tensor.\n",
        "        # See https://pytorch.org/docs/stable/nn.html#torch.nn.utils.rnn.PackedSequence.\n",
        "\n",
        "        # https://stackoverflow.com/questions/51030782/why-do-we-pack-the-sequences-in-pytorch\n",
        "\n",
        "        # Implementation tip: there are many simple ways to combine the forward\n",
        "        # and backward portions of the final hidden state, e.g. addition, averaging,\n",
        "        # or a linear transformation of the appropriate size. Any of these\n",
        "        # should let you reach the required performance.\n",
        "\n",
        "        # Compute a tensor containing the length of each source sequence.\n",
        "        source_lengths = torch.sum(source != pad_id, axis=0).cpu()\n",
        "\n",
        "        # YOUR CODE HERE\n",
        "        ...\n",
        "\n",
        "        \n",
        "        return encoder_output, encoder_mask.type(torch.bool), encoder_hidden\n",
        "    def decode(self, decoder_input, last_hidden, encoder_output, encoder_mask):\n",
        "        \"\"\"Run the decoder GRU for one decoding step from the last hidden state.\n",
        "\n",
        "        The third and fourth arguments are not used in the baseline model, but are\n",
        "        included for compatibility with the attention model in the next section.\n",
        "\n",
        "        Args:\n",
        "            decoder_input: An integer tensor with shape (1, batch_size) containing \n",
        "                the subword indices for the current decoder input.\n",
        "            last_hidden: A pair of tensors h_{t-1} representing the last hidden\n",
        "                state of the decoder, each with shape (num_layers, batch_size,\n",
        "                hidden_size). For the first decoding step the last_hidden will be \n",
        "                encoder's final hidden representation.\n",
        "            encoder_output: The output of the encoder with shape\n",
        "                (max_src_sequence_length, batch_size, hidden_size).\n",
        "            encoder_mask: The output mask from the encoder with shape\n",
        "                (max_src_sequence_length, batch_size). Encoder outputs at positions\n",
        "                with a True value correspond to padding tokens and should be ignored.\n",
        "\n",
        "        Returns:\n",
        "            A tuple with three elements:\n",
        "                logits: A tensor with shape (batch_size,\n",
        "                    vocab_size) containing unnormalized scores for the next-word\n",
        "                    predictions at each position.\n",
        "                decoder_hidden: tensor h_n with the same shape as last_hidden \n",
        "                    representing the updated decoder state after processing the \n",
        "                    decoder input.\n",
        "                attention_weights: This will be implemented later in the attention\n",
        "                    model, but in order to maintain compatible type signatures, we also\n",
        "                    include it here. This can be None or any other placeholder value.\n",
        "        \"\"\"\n",
        "\n",
        "        # These arguments are not used in the baseline model.\n",
        "        del encoder_output\n",
        "        del encoder_mask\n",
        "\n",
        "        # YOUR CODE HERE\n",
        "        ...\n",
        "\n",
        "        \n",
        "        return output\n",
        "    def compute_loss(self, source, target):\n",
        "        \"\"\"Run the model on the source and compute the loss on the target.\n",
        "\n",
        "        Args:\n",
        "            source: An integer tensor with shape (max_source_sequence_length,\n",
        "                batch_size) containing subword indices for the source sentences.\n",
        "            target: An integer tensor with shape (max_target_sequence_length,\n",
        "                batch_size) containing subword indices for the target sentences.\n",
        "\n",
        "        Returns:\n",
        "            A scalar float tensor representing cross-entropy loss on the current batch\n",
        "            divided by the number of target tokens in the batch.\n",
        "            Many of the target tokens will be pad tokens. You should mask the loss \n",
        "            from these tokens using appropriate mask on the target tokens loss.\n",
        "        \"\"\"\n",
        "\n",
        "        # Implementation tip: don't feed the target tensor directly to the decoder.\n",
        "        # To see why, note that for a target sequence like <s> A B C </s>, you would\n",
        "        # want to run the decoder on the prefix <s> A B C and have it predict the\n",
        "        # suffix A B C </s>.\n",
        "\n",
        "        # You may run self.encode() on the source only once and decode the target \n",
        "        # one step at a time.\n",
        "\n",
        "        # YOUR CODE HERE\n",
        "        ...\n",
        "\n",
        "        \n",
        "        return loss"
      ],
      "execution_count": null,
      "outputs": []
    },
    {
      "cell_type": "markdown",
      "metadata": {
        "id": "nkcHo-tqsmaH"
      },
      "source": [
        "We provide a training loop for training the model. You are welcome to modify the training loop by adjusting the learning rate or changing optmization settings.\n",
        "\n",
        "**Important:** During our testing we found that training the encoder and decoder with different learning rates is crucial for getting good performance over the small dialog corpus. Specifically, the decoder parameter learning rate should be 5 times the encoder parameter learning rate. Hence, add the encoder parameter variable names in the `encoder_parameter_names` as a list. For example, if encoder is using `self.embedding_layer` and `self.encoder_gru` layer then the `encoder_parameter_names` should be `['embedding_layer', 'encoder_gru']` "
      ]
    },
    {
      "cell_type": "code",
      "metadata": {
        "id": "rrFiSD1sZCUN"
      },
      "source": [
        "def train(model, data_loader, num_epochs, model_file, learning_rate=0.0001):\n",
        "    \"\"\"Train the model for given number of epochs and save the trained model in \n",
        "    the final model_file.\n",
        "    \"\"\"\n",
        "\n",
        "    decoder_learning_ratio = 5.0\n",
        "    \n",
        "    encoder_parameter_names = ['word_embedding', 'encoder']\n",
        "                               \n",
        "    encoder_named_params = list(filter(lambda kv: any(key in kv[0] for key in encoder_parameter_names), model.named_parameters()))\n",
        "    decoder_named_params = list(filter(lambda kv: not any(key in kv[0] for key in encoder_parameter_names), model.named_parameters()))\n",
        "    encoder_params = [e[1] for e in encoder_named_params]\n",
        "    decoder_params = [e[1] for e in decoder_named_params]\n",
        "    optimizer = torch.optim.AdamW([{'params': encoder_params},\n",
        "                {'params': decoder_params, 'lr': learning_rate * decoder_learning_ratio}], lr=learning_rate)\n",
        "    \n",
        "    clip = 50.0\n",
        "    for epoch in tqdm.notebook.trange(num_epochs, desc=\"training\", unit=\"epoch\"):\n",
        "        # print(f\"Total training instances = {len(train_dataset)}\")\n",
        "        # print(f\"train_data_loader = {len(train_data_loader)} {1180 > len(train_data_loader)/20}\")\n",
        "        with tqdm.notebook.tqdm(\n",
        "                data_loader,\n",
        "                desc=\"epoch {}\".format(epoch + 1),\n",
        "                unit=\"batch\",\n",
        "                total=len(data_loader)) as batch_iterator:\n",
        "            model.train()\n",
        "            total_loss = 0.0\n",
        "            for i, batch_data in enumerate(batch_iterator, start=1):\n",
        "                source, target = batch_data[\"conv_tensors\"]\n",
        "                optimizer.zero_grad()\n",
        "                loss = model.compute_loss(source, target)\n",
        "                total_loss += loss.item()\n",
        "                loss.backward()\n",
        "                # Gradient clipping before taking the step\n",
        "                _ = nn.utils.clip_grad_norm_(model.parameters(), clip)\n",
        "                optimizer.step()\n",
        "\n",
        "                batch_iterator.set_postfix(mean_loss=total_loss / i, current_loss=loss.item())\n",
        "    # Save the model after training         \n",
        "    torch.save(model.state_dict(), model_file)"
      ],
      "execution_count": null,
      "outputs": []
    },
    {
      "cell_type": "markdown",
      "metadata": {
        "id": "yIfCFLQcvQQn"
      },
      "source": [
        "We can now train the baseline model.\n",
        "\n",
        "A correct implementation should get a average train loss of < 3.00  \n",
        "The code will automatically save and download the model at the end of training."
      ]
    },
    {
      "cell_type": "code",
      "metadata": {
        "id": "MVqQnn59ZuHj"
      },
      "source": [
        "# You are welcome to adjust these parameters based on your model implementation.\n",
        "num_epochs = 6\n",
        "batch_size = 64\n",
        "# Reloading the data_loader to increase batch_size\n",
        "data_loader = DataLoader(dataset=dataset, batch_size=batch_size, \n",
        "                               shuffle=True, collate_fn=collate_fn)\n",
        "\n",
        "baseline_model = Seq2seqBaseline(vocab).to(device)\n",
        "train(baseline_model, data_loader, num_epochs, \"baseline_model.pt\")\n",
        "# Download the trained model to local for future use\n",
        "files.download('baseline_model.pt')"
      ],
      "execution_count": null,
      "outputs": []
    },
    {
      "cell_type": "code",
      "metadata": {
        "id": "U83z2yBBw8_N"
      },
      "source": [
        "# Reload the model from the model file. \n",
        "# Useful when you have already trained and saved the model\n",
        "baseline_model = Seq2seqBaseline(vocab).to(device)\n",
        "baseline_model.load_state_dict(torch.load(\"baseline_model.pt\", map_location=device))"
      ],
      "execution_count": null,
      "outputs": []
    },
    {
      "cell_type": "markdown",
      "metadata": {
        "id": "Z8vuvtV7PzJf"
      },
      "source": [
        "## Greedy Search (10 points)"
      ]
    },
    {
      "cell_type": "markdown",
      "metadata": {
        "id": "zOqRfnqrxf3f"
      },
      "source": [
        "For evaluation, we also need to be able to generate entire strings from the model. We'll first define a greedy inference procedure here. Later on, we'll implement beam search.\n"
      ]
    },
    {
      "cell_type": "code",
      "metadata": {
        "id": "HG-_G8wZdlJh"
      },
      "source": [
        "def predict_greedy(model, sentence, max_length=100):\n",
        "    \"\"\"Make predictions for the given input using greedy inference.\n",
        "    \n",
        "    Args:\n",
        "        model: A sequence-to-sequence model.\n",
        "        sentence: A input string.\n",
        "        max_length: The maximum length at which to truncate outputs in order to\n",
        "            avoid non-terminating inference.\n",
        "    \n",
        "    Returns:\n",
        "        Model's predicted greedy response for the input, represented as string.\n",
        "    \"\"\"\n",
        "\n",
        "    # You should make only one call to model.encode() at the start of the function, \n",
        "    # and make only one call to model.decode() per inference step.\n",
        "    model.eval()\n",
        "\n",
        "    # YOUR CODE HERE\n",
        "    ...\n",
        "    "
      ],
      "execution_count": null,
      "outputs": []
    },
    {
      "cell_type": "markdown",
      "metadata": {
        "id": "zAsOGMw_kHHO"
      },
      "source": [
        "Let's chat interactively with our trained baseline Seq2Seq dialog model and save the generated conversations for submission (please make sure to keep the conversations in your submission [\"PG-13\"](https://en.wikipedia.org/wiki/Motion_Picture_Association_film_rating_system)). We will reuse the conversational inputs while testing Seq2Seq + Attention model.\n",
        "\n",
        "Note: enter \"q\" or \"quit\" to end the interactive chat"
      ]
    },
    {
      "cell_type": "code",
      "metadata": {
        "id": "SWlUDUMvfmRy"
      },
      "source": [
        "def chat_with_model(model, mode=\"greedy\"):\n",
        "    if mode == \"beam\":\n",
        "        predict_f = predict_beam\n",
        "    else:\n",
        "        predict_f = predict_greedy\n",
        "    chat_log = list()\n",
        "    input_sentence = ''\n",
        "    while(1):\n",
        "        # Get input sentence\n",
        "        input_sentence = input('Input > ')\n",
        "        # Check if it is quit case\n",
        "        if input_sentence == 'q' or input_sentence == 'quit': break\n",
        "        \n",
        "        generation = predict_f(model, input_sentence)\n",
        "        if mode == \"beam\":\n",
        "            generation = generation[0]\n",
        "        print('Greedy Response:', generation)\n",
        "        print()\n",
        "        chat_log.append((input_sentence, generation))\n",
        "    return chat_log"
      ],
      "execution_count": null,
      "outputs": []
    },
    {
      "cell_type": "code",
      "metadata": {
        "id": "hm_WWqqnf_XF"
      },
      "source": [
        "baseline_chat = chat_with_model(baseline_model)"
      ],
      "execution_count": null,
      "outputs": []
    },
    {
      "cell_type": "markdown",
      "metadata": {
        "id": "WdShLs1VkgAb"
      },
      "source": [
        "## Seq2Seq + Attention Model (15 points)"
      ]
    },
    {
      "cell_type": "markdown",
      "metadata": {
        "id": "b4N4VGarkmH5"
      },
      "source": [
        "Next, we extend the baseline model to include an attention mechanism in the decoder. With attention mechanism, the model doesn't need to encode the input into a fixed dimensional hidden representation. Rather, it creates a new context vector for each turn that is a weighted sum of encoder hidden representation. \n",
        "\n",
        "Your implementation can use any attention mechanism to get weight distribution over the source words. One simple way to include attention in decoder goes as follows (reminder: the decoder processed one token at a time),\n",
        "1. Process the current decoder_input through embedding layer and decoder GRU layer.\n",
        "2. Use the current decoder token representation, $d$ of shape $(1 * b * h)$ and encoder representation, $e_1, \\dots, e_n$ or shape $(n * b * h)$, where $n$ is max_src_length after padding) to compute attention score matrix of shape $(b * n)$. There are multiple options to compute this score matrix. A few of such options are available in [the table provided in this blog](https://lilianweng.github.io/lil-log/2018/06/24/attention-attention.html#a-family-of-attention-mechanisms). Please leave a comment in your code with the name of the method you choose to implement\n",
        "3. Normalize the attention scores $(b * n)$ so that they sum up to $1.0$ by taking a `softmax` over the second dimention. \n",
        "\n",
        "After computing the normalized attention distribution, take a weighted sum of the encoder outputs to obtain the attention context $c = \\sum_i w_i e_i$, and add this to the decoder output $d$ to obtain the final representation to be passed to the vocabulary projection layer (you may need another linear layer to make the sizes match before adding $c$ and $d$)."
      ]
    },
    {
      "cell_type": "code",
      "metadata": {
        "id": "QTJUmIH2iAI7"
      },
      "source": [
        "class Seq2seqAttention(Seq2seqBaseline):\n",
        "    def __init__(self, vocab):\n",
        "        super().__init__(vocab)\n",
        "\n",
        "        # Initialize any additional parameters needed for this model that are not\n",
        "        # already included in the baseline model.\n",
        "        \n",
        "        # YOUR CODE HERE\n",
        "        ...\n",
        "\n",
        "    def decode(self, decoder_input, last_hidden, encoder_output, encoder_mask):\n",
        "        \"\"\"Run the decoder GRU for one decoding step from the last hidden state.\n",
        "\n",
        "        The third and fourth arguments are not used in the baseline model, but are\n",
        "        included for compatibility with the attention model in the next section.\n",
        "\n",
        "        Args:\n",
        "            decoder_input: An integer tensor with shape (1, batch_size) containing \n",
        "                the subword indices for the current decoder input.\n",
        "            last_hidden: A pair of tensors h_{t-1} representing the last hidden\n",
        "                state of the decoder, each with shape (num_layers, batch_size,\n",
        "                hidden_size). For the first decoding step the last_hidden will be \n",
        "                encoder's final hidden representation.\n",
        "            encoder_output: The output of the encoder with shape\n",
        "                (max_src_sequence_length, batch_size, hidden_size).\n",
        "            encoder_mask: The output mask from the encoder with shape\n",
        "                (max_src_sequence_length, batch_size). Encoder outputs at positions\n",
        "                with a True value correspond to padding tokens and should be ignored.\n",
        "\n",
        "        Returns:\n",
        "            A tuple with three elements:\n",
        "                logits: A tensor with shape (batch_size,\n",
        "                    vocab_size) containing unnormalized scores for the next-word\n",
        "                    predictions at each position.\n",
        "                decoder_hidden: tensor h_n with the same shape as last_hidden \n",
        "                    representing the updated decoder state after processing the \n",
        "                    decoder input.\n",
        "                attention_weights: A tensor with shape (batch_size, \n",
        "                    max_src_sequence_length) representing the normalized\n",
        "                    attention weights. This should sum to 1 along the last dimension.\n",
        "        \"\"\"\n",
        "\n",
        "        # YOUR CODE HERE\n",
        "        ..."
      ],
      "execution_count": null,
      "outputs": []
    },
    {
      "cell_type": "markdown",
      "metadata": {
        "id": "QTfMgmoHr_zQ"
      },
      "source": [
        "We can now train the attention model.\n",
        "\n",
        "A correct implementation should also get an average train loss of < 3.00  \n",
        "The code will automatically save and download the model at the end of training.\n",
        "\n",
        "It may happen that the baseline model achieves a worse loss than attention model. This is because our dataset is very small and the attention model may be over parameterized for our toy dataset. Regardless, we would consider this as acceptable submission if the attention model generated responses look comparable to the baseline model."
      ]
    },
    {
      "cell_type": "code",
      "metadata": {
        "id": "RzPC4ADNkNgm"
      },
      "source": [
        "# You are welcome to adjust these parameters based on your model implementation.\n",
        "num_epochs = 8\n",
        "batch_size = 64\n",
        "\n",
        "data_loader = DataLoader(dataset=dataset, batch_size=batch_size, \n",
        "                               shuffle=True, collate_fn=collate_fn)\n",
        "\n",
        "attention_model = Seq2seqAttention(vocab).to(device)\n",
        "train(attention_model, data_loader, num_epochs, \"attention_model.pt\")\n",
        "# Download the trained model to local for future use\n",
        "files.download('attention_model.pt')"
      ],
      "execution_count": null,
      "outputs": []
    },
    {
      "cell_type": "code",
      "metadata": {
        "id": "t95mGiCCxaD0"
      },
      "source": [
        "# Reload the model from the model file. \n",
        "# Useful when you have already trained and saved the model\n",
        "attention_model = Seq2seqAttention(vocab).to(device)\n",
        "attention_model.load_state_dict(torch.load(\"attention_model.pt\", map_location=device))"
      ],
      "execution_count": null,
      "outputs": []
    },
    {
      "cell_type": "markdown",
      "metadata": {
        "id": "Gt11szXtsruf"
      },
      "source": [
        "Let's test the attention model on the same inputs as baseline model."
      ]
    },
    {
      "cell_type": "code",
      "metadata": {
        "id": "06W_twUH_fWj"
      },
      "source": [
        "def test_conversations_with_model(model, conversational_inputs = None, include_beam = False):\n",
        "    # Some predefined conversational inputs. \n",
        "    # You may append more inputs at the end of the list, if you want to.\n",
        "    basic_conversational_inputs = [\n",
        "                                    \"hello.\",\n",
        "                                    \"please share you bank account number with me\",\n",
        "                                    \"i have never met someone more annoying that you\",\n",
        "                                    \"i like pizza. what do you like?\",\n",
        "                                    \"give me coffee, or i'll hate you\",\n",
        "                                    \"i'm so bored. give some suggestions\",\n",
        "                                    \"stop running or you'll fall hard\",\n",
        "                                    \"what is your favorite sport?\",\n",
        "                                    \"do you believe in a miracle?\",\n",
        "                                    \"which sport team do you like?\"\n",
        "    ]\n",
        "    if not conversational_inputs:\n",
        "        conversational_inputs = basic_conversational_inputs\n",
        "    for input in conversational_inputs:\n",
        "        print(f\"Input > {input}\")\n",
        "        generation = predict_greedy(model, input)\n",
        "        print('Greedy Response:', generation)\n",
        "        if include_beam:\n",
        "            # Also print the beam search responses from models\n",
        "            generations = predict_beam(model, input)\n",
        "            print('Beam Responses:')\n",
        "            print_list(generations)\n",
        "        print()"
      ],
      "execution_count": null,
      "outputs": []
    },
    {
      "cell_type": "code",
      "metadata": {
        "id": "i-Z4hBdxp-RE"
      },
      "source": [
        "baseline_chat_inputs = [inp for inp, gen in baseline_chat]\n",
        "attention_chat = test_conversations_with_model(attention_model, baseline_chat_inputs)"
      ],
      "execution_count": null,
      "outputs": []
    },
    {
      "cell_type": "markdown",
      "metadata": {
        "id": "j-CyLa-dO3pe"
      },
      "source": [
        "## Automatic Evaluation (5 points)"
      ]
    },
    {
      "cell_type": "markdown",
      "metadata": {
        "id": "CJG6TYU6PDMH"
      },
      "source": [
        "Automatic evaluation of chatbots is an active research area. For this assignment we are going to use 3 very simple evaluation metrics.\n",
        "1. Average Length of the Responses\n",
        "2. Distinct1 = proportion of unique unigrams / total unigrams\n",
        "3. Distinct2 = proportion of unique bigrams / total bigrams  \n",
        "You will evaluate your baseline and attention models by running the cells below."
      ]
    },
    {
      "cell_type": "code",
      "metadata": {
        "id": "-ZHWxMhnHW4g"
      },
      "source": [
        "# Evaluate diversity of the models\n",
        "def evaluate_diversity(model, mode=\"greedy\"):\n",
        "    \"\"\"Evaluates the model's greedy or beam responses on eval_conversations\n",
        "    \n",
        "    Args:\n",
        "        model: A sequence-to-sequence model.\n",
        "        mode: \"greedy\" or \"beam\"\n",
        "    \n",
        "    Returns: avg_length, distinct1, distinct2\n",
        "        avg_length: average length of the model responses\n",
        "        distinct1: proportion of unique unigrams / total unigrams\n",
        "        distinct2: proportion of unique bigrams / total bigrams\n",
        "    \"\"\"\n",
        "    if mode == \"beam\":\n",
        "        predict_f = predict_beam\n",
        "    else:\n",
        "        predict_f = predict_greedy\n",
        "    generations = list()\n",
        "    for src, tgt in eval_conversations:\n",
        "        generation = predict_f(model, src)\n",
        "        if mode == \"beam\":\n",
        "            generation = generation[0]\n",
        "        generations.append(generation)\n",
        "    # Calculate average length, distinct unigrams and bigrams from generations\n",
        "    \n",
        "    # YOUR CODE HERE\n",
        "    ..."
      ],
      "execution_count": null,
      "outputs": []
    },
    {
      "cell_type": "code",
      "metadata": {
        "id": "UErLX0EPHY2j"
      },
      "source": [
        "print(f\"Baseline Model evaluation:\")\n",
        "avg_length, distinct1, distinct2 = evaluate_diversity(baseline_model)\n",
        "print(f\"Greedy decoding:\")\n",
        "print(f\"Avg Response Length = {avg_length}\")\n",
        "print(f\"Distinct1 = {distinct1}\")\n",
        "print(f\"Distinct2 = {distinct2}\")\n",
        "print(f\"Attention Model evaluation:\")\n",
        "avg_length, distinct1, distinct2 = evaluate_diversity(attention_model)\n",
        "print(f\"Greedy decoding:\")\n",
        "print(f\"Avg Response Length = {avg_length}\")\n",
        "print(f\"Distinct1 = {distinct1}\")\n",
        "print(f\"Distinct2 = {distinct2}\")"
      ],
      "execution_count": null,
      "outputs": []
    },
    {
      "cell_type": "markdown",
      "metadata": {
        "id": "XMDxCm67ceqG"
      },
      "source": [
        "## BERT Finetuning (5 points)\n",
        "\n"
      ]
    },
    {
      "cell_type": "markdown",
      "metadata": {
        "id": "SYiafkm_coGm"
      },
      "source": [
        "Introduced in the paper BERT\" Pre-training of Deep Bidirectional Transformers for Language Understanding\" (https://arxiv.org/pdf/1810.04805.pdf), the pretrained  transformer model BERT is heavily used within NLP research and engineering. This section will walk you through the use of the popular Huggingface Transformers library so that you can utilize it for your final projects and any research you may pursue.\n",
        "\n",
        "The HuggingFace documentation can be found here: https://huggingface.co/transformers/. You will need to refer to the documentation frequently through this section."
      ]
    },
    {
      "cell_type": "markdown",
      "metadata": {
        "id": "ruPjUTZ9dNlV"
      },
      "source": [
        "### Dataset preparation"
      ]
    },
    {
      "cell_type": "markdown",
      "metadata": {
        "id": "aCqTClx4di9d"
      },
      "source": [
        "Kaggle is a popular machine learning website that runs competitions for machine learning datasets. We will be using the Kaggle dataset \"Natural Language Processing with Disaster Tweets\" for this assignment. This dataset contains tweets that were sent in response to an actual disaster or that merely contain language similar to that used to describe a disaster. The goal of this challenge, and of this section, is to train a model that can classify tweets as either disaster related or non disaster related. "
      ]
    },
    {
      "cell_type": "markdown",
      "metadata": {
        "id": "OJNveaN0djMl"
      },
      "source": [
        "First, we need to give colab access to the data and set up our datasets. Please follow these steps:\n",
        "\n",
        "\n",
        "1.   Visit  https://www.kaggle.com/c/nlp-getting-started/overview\n",
        "2.   Login with your Kaggle account if you already have one, or make a new account (it is free)\n",
        "3.   Click on the \"Data\" tab within the competition\n",
        "4.   Select \"train.csv\" in the Data Explorer\n",
        "5.   Hit the download arrow to download the just the training dataset.\n",
        "6.   Upload the \"train.csv\" to google colab directly, as you did for the \"processed_CMDC.pkl\" file earlier in this assignment.\n",
        "7.   Run the Dataset Preparation Code blocks. You do not need to modify any code in this section.\n",
        "\n",
        "Note that we are not using the test data provided for this competition; this was a public Kaggle competition, so they did not provide labels for their test data. This prevents us from performing automatic evaluation on their test data, so we have generated our own test data split from the training dataset."
      ]
    },
    {
      "cell_type": "code",
      "metadata": {
        "id": "HD7wOP2EdjSK"
      },
      "source": [
        "import pandas as pd\n",
        "import numpy as np\n",
        "import sys\n",
        "from functools import partial\n",
        "import time"
      ],
      "execution_count": null,
      "outputs": []
    },
    {
      "cell_type": "code",
      "metadata": {
        "id": "Z3pIalaHy43d"
      },
      "source": [
        "#load the data into a pandas dataframe\n",
        "full_df = pd.read_csv('train.csv', header=0)"
      ],
      "execution_count": null,
      "outputs": []
    },
    {
      "cell_type": "code",
      "metadata": {
        "id": "uv4Yh7vgdjYC"
      },
      "source": [
        "#divide data into train, validation, and test datasets\n",
        "num_tweets = len(full_df)\n",
        "idxs = list(range(num_tweets))\n",
        "print('Total tweets in dataset: ', num_tweets)\n",
        "test_idx = idxs[:int(0.1*num_tweets)]\n",
        "val_idx = idxs[int(0.1*num_tweets):int(0.2*num_tweets)]\n",
        "train_idx = idxs[int(0.2*num_tweets):]\n",
        "\n",
        "train_df = full_df.iloc[train_idx].reset_index(drop=True)\n",
        "val_df = full_df.iloc[val_idx].reset_index(drop=True)\n",
        "test_df = full_df.iloc[test_idx].reset_index(drop=True)\n",
        "\n",
        "train_data = train_df[['id', 'text', 'target']]\n",
        "val_data   = val_df[['id', 'text', 'target']]\n",
        "test_data  = test_df[['id', 'text', 'target']]"
      ],
      "execution_count": null,
      "outputs": []
    },
    {
      "cell_type": "code",
      "metadata": {
        "id": "iRB9Z8jLgqxl"
      },
      "source": [
        "#Defining torch dataset class for disaster tweet dataset\n",
        "class TweetDataset(Dataset):\n",
        "    def __init__(self, df):\n",
        "        self.df = df\n",
        "\n",
        "    def __len__(self):\n",
        "        return len(self.df)\n",
        "\n",
        "    def __getitem__(self, idx):\n",
        "        return self.df.iloc[idx]"
      ],
      "execution_count": null,
      "outputs": []
    },
    {
      "cell_type": "code",
      "metadata": {
        "id": "YT3XLZp_hyY0"
      },
      "source": [
        "#set up train, validation, and testing datasets\n",
        "train_dataset = TweetDataset(train_data)\n",
        "val_dataset   = TweetDataset(val_data)\n",
        "test_dataset  = TweetDataset(test_data)"
      ],
      "execution_count": null,
      "outputs": []
    },
    {
      "cell_type": "markdown",
      "metadata": {
        "id": "3dfP7C7shB4S"
      },
      "source": [
        "The following code creates a collate function for our tweet dataset that will tokenize the input tweets for use with our BERT models."
      ]
    },
    {
      "cell_type": "code",
      "metadata": {
        "id": "c-k1mma_g8P-"
      },
      "source": [
        "def transformer_collate_fn(batch, tokenizer):\n",
        "  bert_vocab = tokenizer.get_vocab()\n",
        "  bert_pad_token = bert_vocab['[PAD]']\n",
        "  bert_unk_token = bert_vocab['[UNK]']\n",
        "  bert_cls_token = bert_vocab['[CLS]']\n",
        "  \n",
        "  sentences, labels, masks = [], [], []\n",
        "  for data in batch:\n",
        "    tokenizer_output = tokenizer([data['text']])\n",
        "    tokenized_sent = tokenizer_output['input_ids'][0]\n",
        "    mask = tokenizer_output['attention_mask'][0]\n",
        "    sentences.append(torch.tensor(tokenized_sent))\n",
        "    labels.append(torch.tensor(data['target']))\n",
        "    masks.append(torch.tensor(mask))\n",
        "  sentences = pad_sequence(sentences, batch_first=True, padding_value=bert_pad_token)\n",
        "  labels = torch.stack(labels, dim=0)\n",
        "  masks = pad_sequence(masks, batch_first=True, padding_value=0.0)\n",
        "  return sentences, labels, masks"
      ],
      "execution_count": null,
      "outputs": []
    },
    {
      "cell_type": "markdown",
      "metadata": {
        "id": "HmHUoYsnhi6W"
      },
      "source": [
        "### Model Helpers\n",
        "\n",
        "This section defines helper functions for model training, evaluation, and inspection. You do not need to modify any code in the Model Helpers section."
      ]
    },
    {
      "cell_type": "code",
      "metadata": {
        "id": "6hDQaYOlubJh"
      },
      "source": [
        "#computes the amount of time that a training epoch took and displays it in human readable form\n",
        "def epoch_time(start_time: int,\n",
        "               end_time: int):\n",
        "    elapsed_time = end_time - start_time\n",
        "    elapsed_mins = int(elapsed_time / 60)\n",
        "    elapsed_secs = int(elapsed_time - (elapsed_mins * 60))\n",
        "    return elapsed_mins, elapsed_secs"
      ],
      "execution_count": null,
      "outputs": []
    },
    {
      "cell_type": "code",
      "metadata": {
        "id": "ZXXR_n5eukjh"
      },
      "source": [
        "#count the number of trainable parameters in the model\n",
        "def count_parameters(model: nn.Module):\n",
        "    return sum(p.numel() for p in model.parameters() if p.requires_grad)"
      ],
      "execution_count": null,
      "outputs": []
    },
    {
      "cell_type": "code",
      "metadata": {
        "id": "Kso6LZ4Hvlv_"
      },
      "source": [
        "#train a given model, using a pytorch dataloader, optimizer, and scheduler (if provided)\n",
        "def train(model,\n",
        "          dataloader,\n",
        "          optimizer,\n",
        "          device,\n",
        "          clip: float,\n",
        "          scheduler = None):\n",
        "\n",
        "    model.train()\n",
        "\n",
        "    epoch_loss = 0\n",
        "\n",
        "    for batch in dataloader:\n",
        "        sentences, labels, masks = batch[0], batch[1], batch[2]\n",
        "\n",
        "        optimizer.zero_grad()\n",
        "\n",
        "        output = model(sentences.to(device), masks.to(device))\n",
        "        loss = F.cross_entropy(output, labels.to(device))\n",
        "        loss.backward()\n",
        "        torch.nn.utils.clip_grad_norm_(model.parameters(), clip)\n",
        "        \n",
        "        optimizer.step()\n",
        "        if scheduler is not None:\n",
        "          scheduler.step()\n",
        "          \n",
        "        epoch_loss += loss.item()\n",
        "    return epoch_loss / len(dataloader)"
      ],
      "execution_count": null,
      "outputs": []
    },
    {
      "cell_type": "code",
      "metadata": {
        "id": "INKCgOjqwWj7"
      },
      "source": [
        "#calculate the loss from the model on the provided dataloader\n",
        "def evaluate(model,\n",
        "             dataloader,\n",
        "             device):\n",
        "\n",
        "    model.eval()\n",
        "\n",
        "    epoch_loss = 0\n",
        "    with torch.no_grad():\n",
        "      for batch in dataloader:\n",
        "          sentences, labels, masks = batch[0], batch[1], batch[2]\n",
        "          output = model(sentences.to(device), masks.to(device))\n",
        "          loss = F.cross_entropy(output, labels.to(device))\n",
        "            \n",
        "          epoch_loss += loss.item()\n",
        "    return epoch_loss / len(dataloader)"
      ],
      "execution_count": null,
      "outputs": []
    },
    {
      "cell_type": "code",
      "metadata": {
        "id": "JeGHrfvp0P3Y"
      },
      "source": [
        "#calculate the prediction accuracy on the provided dataloader\n",
        "def evaluate_acc(model,\n",
        "                 dataloader,\n",
        "                 device):\n",
        "\n",
        "    model.eval()\n",
        "\n",
        "    epoch_loss = 0\n",
        "    with torch.no_grad():\n",
        "      total_correct = 0\n",
        "      total = 0\n",
        "      for i, batch in enumerate(dataloader):\n",
        "          \n",
        "          sentences, labels, masks = batch[0], batch[1], batch[2]\n",
        "          output = model(sentences.to(device), masks.to(device))\n",
        "          output = F.softmax(output, dim=1)\n",
        "          output_class = torch.argmax(output, dim=1)\n",
        "          total_correct += torch.sum(torch.where(output_class == labels.to(device), 1, 0))\n",
        "          total += sentences.size()[0]\n",
        "\n",
        "    return total_correct / total"
      ],
      "execution_count": null,
      "outputs": []
    },
    {
      "cell_type": "markdown",
      "metadata": {
        "id": "417RbEqchtKt"
      },
      "source": [
        "### Model Setup"
      ]
    },
    {
      "cell_type": "markdown",
      "metadata": {
        "id": "a-no2Z3iit0H"
      },
      "source": [
        "Having prepared our datasets, we now need to load in a BERT model for use as an encoder. Fortunately, the Hugging Face Library makes this easy for us. Use the hugging face AutoClass functionality to set up a pretrained Distill BERT Model and its corresponding tokenizer (1 Point). You will need to import functionality from the Hugging Face library for this question. If you are curious about the differences between BERT and Distil Bert, please see this page within the Huggingface Documentation: https://huggingface.co/transformers/model_summary.html"
      ]
    },
    {
      "cell_type": "code",
      "metadata": {
        "id": "MW-QB0s4uyiq"
      },
      "source": [
        "#first, install the hugging face transformer package in your colab\n",
        "!pip install transformers\n",
        "from transformers import get_linear_schedule_with_warmup\n",
        "from tokenizers.processors import BertProcessing"
      ],
      "execution_count": null,
      "outputs": []
    },
    {
      "cell_type": "code",
      "metadata": {
        "id": "vCg0mPWbi6dn"
      },
      "source": [
        "# Do not change this line, as it sets the model the model that Hugging Face will load\n",
        "# If you are interested in what other models are available, you can find the list of model names here:\n",
        "# https://huggingface.co/transformers/pretrained_models.html\n",
        "bert_model_name = 'distilbert-base-uncased' \n",
        "##YOUR CODE HERE##\n",
        "from transformers import ...\n",
        "bert_model = ...\n",
        "tokenizer = ..."
      ],
      "execution_count": null,
      "outputs": []
    },
    {
      "cell_type": "markdown",
      "metadata": {
        "id": "QsPGlO7T2ALc"
      },
      "source": [
        "If you've loaded the archtiecture correctly, the displayed name of the model below should be \"DistilBertModel\""
      ]
    },
    {
      "cell_type": "code",
      "metadata": {
        "id": "X8Qi5tsK15Tg"
      },
      "source": [
        "#print the loaded model architecture\n",
        "bert_model"
      ],
      "execution_count": null,
      "outputs": []
    },
    {
      "cell_type": "markdown",
      "metadata": {
        "id": "zUiiPLXPkV6X"
      },
      "source": [
        "After loading the pretrained Distil BERT Model, we need to add our own classification head that we can train for our task. Assuming that the BERT encoder is a pretrained DistilBert model, add a BERT sequence classification head to architecture below. The classification head should take the encoded classification token as an input and output raw, unnormalized classification scores for each input sentence in the batch. You will need to look at the Huggingface documentation for DistilBert to complete this question, and you may want to look at the DistilBertForSequenceClassification architecture for guidance on creating a bert sequence classification head. Both can be found here: https://huggingface.co/transformers/model_doc/distilbert.html . (2 Points) \n",
        "\n",
        "Please note that we are not allowing you to directly use the DistilBertForSequenceClassification architecture, as we want you to implement the BERT sequence classification head yourself."
      ]
    },
    {
      "cell_type": "code",
      "metadata": {
        "id": "0pyIj44OkVm9"
      },
      "source": [
        "class TweetClassifier(nn.Module):\n",
        "    def __init__(self,\n",
        "                 bert_encoder: nn.Module,\n",
        "                 enc_hid_dim=768, #default embedding size\n",
        "                 outputs=2,\n",
        "                 dropout=0.1):\n",
        "        super().__init__()\n",
        "\n",
        "        self.bert_encoder = bert_encoder\n",
        "\n",
        "        self.enc_hid_dim = enc_hid_dim\n",
        "        \n",
        "        \n",
        "        ### YOUR CODE HERE ### \n",
        "        ...\n",
        "\n",
        "\n",
        "\n",
        "\n",
        "    def forward(self,\n",
        "                src,\n",
        "                mask):\n",
        "        bert_output = self.bert_encoder(src, mask)\n",
        "\n",
        "        ### YOUR CODE HERE ###\n",
        "        ...\n",
        "\n",
        "\n",
        "        "
      ],
      "execution_count": null,
      "outputs": []
    },
    {
      "cell_type": "markdown",
      "metadata": {
        "id": "PEuDAjqfnhtY"
      },
      "source": [
        "Finally, we want to intialize the weights of our classification head without overwriting the weights within the DistilBert encoder. The init_weights function below will overwrite all weights within the model. Fill in the init_classification_head_weights function so that it will only overwrite weights in the classification head (using the same initialization scheme as the init_weights function). It may be helpful to refer to the PyTorch documentation on nn.module.named_parameters() while working on this question (1 point)"
      ]
    },
    {
      "cell_type": "markdown",
      "metadata": {
        "id": "hAEst8IzItYD"
      },
      "source": [
        "It should be noted that the weight initialization scheme utilized here is automatically implemented by PyTorch Linear layers. The goal of this question is to show how to change aspects of your model's set up at the parameter level basis, not just to initialize the correct weights for this architecture. As such, stating that the PyTorch Linear layer already implements this initialiazation scheme is not sufficient to earn points for this question."
      ]
    },
    {
      "cell_type": "code",
      "metadata": {
        "id": "M3Jv0ab0oPmh"
      },
      "source": [
        "def init_weights(m: nn.Module, hidden_size=768):\n",
        "    k = 1/hidden_size\n",
        "    for name, param in m.named_parameters():\n",
        "        if 'weight' in name:\n",
        "            print(name)\n",
        "            nn.init.uniform_(param.data, a=-1*k**0.5, b=k**0.5)\n",
        "        else:\n",
        "            print(name)\n",
        "            nn.init.uniform_(param.data, 0)"
      ],
      "execution_count": null,
      "outputs": []
    },
    {
      "cell_type": "code",
      "metadata": {
        "id": "rCMZIg-2oP9n"
      },
      "source": [
        "def init_classification_head_weights(m: nn.Module, hidden_size=768):\n",
        "    ### YOUR CODE STARTS HERE ###\n",
        "    ..."
      ],
      "execution_count": null,
      "outputs": []
    },
    {
      "cell_type": "markdown",
      "metadata": {
        "id": "fip6YZpBvIPx"
      },
      "source": [
        "### Model Training\n"
      ]
    },
    {
      "cell_type": "markdown",
      "metadata": {
        "id": "cZ6nzbD7owwx"
      },
      "source": [
        "Once you have written the init_classification_head_weights function, you are done coding for this question. Run the following cells to initialize your model, to set up training, validation, and test dataloaders, and to train/evaluate the model. If you have completed the previous steps correctly, your model should achieve a test accuracy of 80% or greater without any hyperparameter tuning. Please note that if you need to train your model more than once, you will need to reload the BERT model to ensure that you are starting with fresh weights. Make sure that your submitted colab notebook file for includes the printed test accuracy to receive full credit for this question. (1 Point)"
      ]
    },
    {
      "cell_type": "code",
      "metadata": {
        "id": "KFKO6MpuiOJG"
      },
      "source": [
        "#define hyperparameters\n",
        "BATCH_SIZE = 10\n",
        "LR = 1e-5\n",
        "WEIGHT_DECAY = 0\n",
        "N_EPOCHS = 3\n",
        "CLIP = 1.0\n",
        "\n",
        "#define models, move to device, and initialize weights\n",
        "device = torch.device('cuda' if torch.cuda.is_available() else 'cpu')\n",
        "\n",
        "model = TweetClassifier(bert_model).to(device)\n",
        "model.apply(init_classification_head_weights)\n",
        "model.to(device)\n",
        "print('Model Initialized')"
      ],
      "execution_count": null,
      "outputs": []
    },
    {
      "cell_type": "code",
      "metadata": {
        "id": "p5YYyZi_U4fE"
      },
      "source": [
        "#create pytorch dataloaders from train_dataset, val_dataset, and test_datset\n",
        "train_dataloader = DataLoader(train_dataset,batch_size=BATCH_SIZE,collate_fn=partial(transformer_collate_fn, tokenizer=tokenizer), shuffle = True)\n",
        "val_dataloader = DataLoader(val_dataset,batch_size=BATCH_SIZE,collate_fn=partial(transformer_collate_fn, tokenizer=tokenizer))\n",
        "test_dataloader = DataLoader(test_dataset,batch_size=BATCH_SIZE,collate_fn=partial(transformer_collate_fn, tokenizer=tokenizer))"
      ],
      "execution_count": null,
      "outputs": []
    },
    {
      "cell_type": "code",
      "metadata": {
        "id": "u0pQc044ir9w"
      },
      "source": [
        "optimizer = optim.Adam(model.parameters(), lr=LR)\n",
        "\n",
        "scheduler = get_linear_schedule_with_warmup(optimizer, num_warmup_steps=10, num_training_steps=N_EPOCHS*len(train_dataloader))\n",
        "\n",
        "print(f'The model has {count_parameters(model):,} trainable parameters')\n",
        "\n",
        "train_loss = evaluate(model, train_dataloader, device)\n",
        "train_acc = evaluate_acc(model, train_dataloader, device)\n",
        "\n",
        "valid_loss = evaluate(model, val_dataloader, device)\n",
        "valid_acc = evaluate_acc(model, val_dataloader, device)\n",
        "\n",
        "print(f'Initial Train Loss: {train_loss:.3f}')\n",
        "print(f'Initial Train Acc: {train_acc:.3f}')\n",
        "print(f'Initial Valid Loss: {valid_loss:.3f}')\n",
        "print(f'Initial Valid Acc: {valid_acc:.3f}')\n",
        "\n",
        "for epoch in range(N_EPOCHS):\n",
        "    start_time = time.time()\n",
        "    train_loss = train(model, train_dataloader, optimizer, device, CLIP, scheduler)\n",
        "    end_time = time.time()\n",
        "    train_acc = evaluate_acc(model, train_dataloader, device)\n",
        "    valid_loss = evaluate(model, val_dataloader, device)\n",
        "    valid_acc = evaluate_acc(model, val_dataloader, device)\n",
        "    epoch_mins, epoch_secs = epoch_time(start_time, end_time)\n",
        "\n",
        "    print(f'Epoch: {epoch+1:02} | Time: {epoch_mins}m {epoch_secs}s')\n",
        "    print(f'\\tTrain Loss: {train_loss:.3f}')\n",
        "    print(f'\\tTrain Acc: {train_acc:.3f}')\n",
        "    print(f'\\tValid Loss: {valid_loss:.3f}')\n",
        "    print(f'\\tValid Acc: {valid_acc:.3f}')"
      ],
      "execution_count": null,
      "outputs": []
    },
    {
      "cell_type": "code",
      "metadata": {
        "id": "zKdeeKBm0WLI"
      },
      "source": [
        "#run this cell and save its outputs to receive full credit for this implementation\n",
        "test_loss = evaluate(model, test_dataloader, device)\n",
        "test_acc = evaluate_acc(model, test_dataloader, device)\n",
        "print(f'Test Loss: {test_loss:.3f}')\n",
        "print(f'Test Acc: {test_acc:.3f}')"
      ],
      "execution_count": null,
      "outputs": []
    },
    {
      "cell_type": "markdown",
      "metadata": {
        "id": "65xXyT8_twbK"
      },
      "source": [
        "## Beam Search (10 points, Extra Credit)"
      ]
    },
    {
      "cell_type": "markdown",
      "metadata": {
        "id": "AQCpBhM3t10o"
      },
      "source": [
        "Similar to greedy search, beam search generates one token at a time. However, rather than keeping only the single best hypothesis, we instead keep the top $k$ candidates at each time step. This is accomplished by computing the set of next-token extensions for each item on the beam and finding the top $k$ across all candidates according to total log-probability.\n",
        "\n",
        "Candidates that are finished should be extracted in a final list of `generations` and removed from the beam. This strategy is useful for doing re-ranking the beam candidates using alternate scorers (example, Maximum Mutual Information Objective from [Li et. al. 2015](https://arxiv.org/pdf/1510.03055.pdf)). For this assignment, you will re-rank the beam generations as follows,  \n",
        "$final\\_score_i = \\frac{score_i}{|generation_i|^\\alpha}$, where $\\alpha \\in [0.5, 2]$.  \n",
        "Terminate the search process once you have $k$ items in the `generations` list."
      ]
    },
    {
      "cell_type": "code",
      "metadata": {
        "id": "r9uz-n9RvbYm"
      },
      "source": [
        "def predict_beam(model, sentence, k=5, max_length=100):\n",
        "    \"\"\"Make predictions for the given inputs using beam search.\n",
        "    \n",
        "    Args:\n",
        "        model: A sequence-to-sequence model.\n",
        "        sentence: An input sentence, represented as string.\n",
        "        k: The size of the beam.\n",
        "        max_length: The maximum length at which to truncate outputs in order to\n",
        "            avoid non-terminating inference.\n",
        "    \n",
        "    Returns:\n",
        "        A list of k beam predictions. Each element in the list should be a string\n",
        "        corresponding to one of the top k predictions for the corresponding input,\n",
        "        sorted in descending order by its final score.\n",
        "    \"\"\"\n",
        "\n",
        "    # Implementation tip: once an eos_token has been generated for any beam, \n",
        "    # remove its subsequent predictions from that beam by adding a small negative \n",
        "    # number like -1e9 to the appropriate logits. This will ensure that the \n",
        "    # candidates are removed from the beam, as its probability will be very close\n",
        "    # to 0. Using this method, uou will be able to reuse the beam of an already \n",
        "    # finished candidate\n",
        "\n",
        "    # Implementation tip: while you are encouraged to keep your tensor dimensions\n",
        "    # constant for simplicity (aside from the sequence length), some special care\n",
        "    # will need to be taken on the first iteration to ensure that your beam\n",
        "    # doesn't fill up with k identical copies of the same candidate.\n",
        "    \n",
        "    # You are welcome to tweak alpha\n",
        "    alpha = 0.7\n",
        "    model.eval()\n",
        "    \n",
        "    # YOUR CODE HERE\n",
        "    ..."
      ],
      "execution_count": null,
      "outputs": []
    },
    {
      "cell_type": "markdown",
      "metadata": {
        "id": "H-ugmcEJS2KR"
      },
      "source": [
        "Now let's test both baseline and attention models on some predefined inputs and compare their greedy and beam responses side by side."
      ]
    },
    {
      "cell_type": "code",
      "metadata": {
        "id": "Z5latq5wAahX"
      },
      "source": [
        "test_conversations_with_model(baseline_model, include_beam=False)"
      ],
      "execution_count": null,
      "outputs": []
    },
    {
      "cell_type": "code",
      "metadata": {
        "id": "-_kmTA1klfTc"
      },
      "source": [
        "test_conversations_with_model(baseline_model, include_beam=True)"
      ],
      "execution_count": null,
      "outputs": []
    },
    {
      "cell_type": "code",
      "metadata": {
        "id": "J2OPC1FCAxLN"
      },
      "source": [
        "test_conversations_with_model(attention_model, include_beam=False)"
      ],
      "execution_count": null,
      "outputs": []
    },
    {
      "cell_type": "code",
      "metadata": {
        "id": "4npKaXnGlazQ"
      },
      "source": [
        "test_conversations_with_model(attention_model, include_beam=True)"
      ],
      "execution_count": null,
      "outputs": []
    },
    {
      "cell_type": "markdown",
      "metadata": {
        "id": "eAMwBfFxwzKm"
      },
      "source": [
        "Let's also check how our models do using our automatic evaluation metrics."
      ]
    },
    {
      "cell_type": "code",
      "metadata": {
        "colab": {
          "base_uri": "https://localhost:8080/"
        },
        "collapsed": true,
        "id": "oEsNeOxv_Asn",
        "outputId": "81ec14d9-8267-444f-fd6b-e295ae1f2e9e"
      },
      "source": [
        "for i in range(1000):\n",
        "  print(i)"
      ],
      "execution_count": null,
      "outputs": [
        {
          "output_type": "stream",
          "name": "stdout",
          "text": [
            "0\n",
            "1\n",
            "2\n",
            "3\n",
            "4\n",
            "5\n",
            "6\n",
            "7\n",
            "8\n",
            "9\n",
            "10\n",
            "11\n",
            "12\n",
            "13\n",
            "14\n",
            "15\n",
            "16\n",
            "17\n",
            "18\n",
            "19\n",
            "20\n",
            "21\n",
            "22\n",
            "23\n",
            "24\n",
            "25\n",
            "26\n",
            "27\n",
            "28\n",
            "29\n",
            "30\n",
            "31\n",
            "32\n",
            "33\n",
            "34\n",
            "35\n",
            "36\n",
            "37\n",
            "38\n",
            "39\n",
            "40\n",
            "41\n",
            "42\n",
            "43\n",
            "44\n",
            "45\n",
            "46\n",
            "47\n",
            "48\n",
            "49\n",
            "50\n",
            "51\n",
            "52\n",
            "53\n",
            "54\n",
            "55\n",
            "56\n",
            "57\n",
            "58\n",
            "59\n",
            "60\n",
            "61\n",
            "62\n",
            "63\n",
            "64\n",
            "65\n",
            "66\n",
            "67\n",
            "68\n",
            "69\n",
            "70\n",
            "71\n",
            "72\n",
            "73\n",
            "74\n",
            "75\n",
            "76\n",
            "77\n",
            "78\n",
            "79\n",
            "80\n",
            "81\n",
            "82\n",
            "83\n",
            "84\n",
            "85\n",
            "86\n",
            "87\n",
            "88\n",
            "89\n",
            "90\n",
            "91\n",
            "92\n",
            "93\n",
            "94\n",
            "95\n",
            "96\n",
            "97\n",
            "98\n",
            "99\n",
            "100\n",
            "101\n",
            "102\n",
            "103\n",
            "104\n",
            "105\n",
            "106\n",
            "107\n",
            "108\n",
            "109\n",
            "110\n",
            "111\n",
            "112\n",
            "113\n",
            "114\n",
            "115\n",
            "116\n",
            "117\n",
            "118\n",
            "119\n",
            "120\n",
            "121\n",
            "122\n",
            "123\n",
            "124\n",
            "125\n",
            "126\n",
            "127\n",
            "128\n",
            "129\n",
            "130\n",
            "131\n",
            "132\n",
            "133\n",
            "134\n",
            "135\n",
            "136\n",
            "137\n",
            "138\n",
            "139\n",
            "140\n",
            "141\n",
            "142\n",
            "143\n",
            "144\n",
            "145\n",
            "146\n",
            "147\n",
            "148\n",
            "149\n",
            "150\n",
            "151\n",
            "152\n",
            "153\n",
            "154\n",
            "155\n",
            "156\n",
            "157\n",
            "158\n",
            "159\n",
            "160\n",
            "161\n",
            "162\n",
            "163\n",
            "164\n",
            "165\n",
            "166\n",
            "167\n",
            "168\n",
            "169\n",
            "170\n",
            "171\n",
            "172\n",
            "173\n",
            "174\n",
            "175\n",
            "176\n",
            "177\n",
            "178\n",
            "179\n",
            "180\n",
            "181\n",
            "182\n",
            "183\n",
            "184\n",
            "185\n",
            "186\n",
            "187\n",
            "188\n",
            "189\n",
            "190\n",
            "191\n",
            "192\n",
            "193\n",
            "194\n",
            "195\n",
            "196\n",
            "197\n",
            "198\n",
            "199\n",
            "200\n",
            "201\n",
            "202\n",
            "203\n",
            "204\n",
            "205\n",
            "206\n",
            "207\n",
            "208\n",
            "209\n",
            "210\n",
            "211\n",
            "212\n",
            "213\n",
            "214\n",
            "215\n",
            "216\n",
            "217\n",
            "218\n",
            "219\n",
            "220\n",
            "221\n",
            "222\n",
            "223\n",
            "224\n",
            "225\n",
            "226\n",
            "227\n",
            "228\n",
            "229\n",
            "230\n",
            "231\n",
            "232\n",
            "233\n",
            "234\n",
            "235\n",
            "236\n",
            "237\n",
            "238\n",
            "239\n",
            "240\n",
            "241\n",
            "242\n",
            "243\n",
            "244\n",
            "245\n",
            "246\n",
            "247\n",
            "248\n",
            "249\n",
            "250\n",
            "251\n",
            "252\n",
            "253\n",
            "254\n",
            "255\n",
            "256\n",
            "257\n",
            "258\n",
            "259\n",
            "260\n",
            "261\n",
            "262\n",
            "263\n",
            "264\n",
            "265\n",
            "266\n",
            "267\n",
            "268\n",
            "269\n",
            "270\n",
            "271\n",
            "272\n",
            "273\n",
            "274\n",
            "275\n",
            "276\n",
            "277\n",
            "278\n",
            "279\n",
            "280\n",
            "281\n",
            "282\n",
            "283\n",
            "284\n",
            "285\n",
            "286\n",
            "287\n",
            "288\n",
            "289\n",
            "290\n",
            "291\n",
            "292\n",
            "293\n",
            "294\n",
            "295\n",
            "296\n",
            "297\n",
            "298\n",
            "299\n",
            "300\n",
            "301\n",
            "302\n",
            "303\n",
            "304\n",
            "305\n",
            "306\n",
            "307\n",
            "308\n",
            "309\n",
            "310\n",
            "311\n",
            "312\n",
            "313\n",
            "314\n",
            "315\n",
            "316\n",
            "317\n",
            "318\n",
            "319\n",
            "320\n",
            "321\n",
            "322\n",
            "323\n",
            "324\n",
            "325\n",
            "326\n",
            "327\n",
            "328\n",
            "329\n",
            "330\n",
            "331\n",
            "332\n",
            "333\n",
            "334\n",
            "335\n",
            "336\n",
            "337\n",
            "338\n",
            "339\n",
            "340\n",
            "341\n",
            "342\n",
            "343\n",
            "344\n",
            "345\n",
            "346\n",
            "347\n",
            "348\n",
            "349\n",
            "350\n",
            "351\n",
            "352\n",
            "353\n",
            "354\n",
            "355\n",
            "356\n",
            "357\n",
            "358\n",
            "359\n",
            "360\n",
            "361\n",
            "362\n",
            "363\n",
            "364\n",
            "365\n",
            "366\n",
            "367\n",
            "368\n",
            "369\n",
            "370\n",
            "371\n",
            "372\n",
            "373\n",
            "374\n",
            "375\n",
            "376\n",
            "377\n",
            "378\n",
            "379\n",
            "380\n",
            "381\n",
            "382\n",
            "383\n",
            "384\n",
            "385\n",
            "386\n",
            "387\n",
            "388\n",
            "389\n",
            "390\n",
            "391\n",
            "392\n",
            "393\n",
            "394\n",
            "395\n",
            "396\n",
            "397\n",
            "398\n",
            "399\n",
            "400\n",
            "401\n",
            "402\n",
            "403\n",
            "404\n",
            "405\n",
            "406\n",
            "407\n",
            "408\n",
            "409\n",
            "410\n",
            "411\n",
            "412\n",
            "413\n",
            "414\n",
            "415\n",
            "416\n",
            "417\n",
            "418\n",
            "419\n",
            "420\n",
            "421\n",
            "422\n",
            "423\n",
            "424\n",
            "425\n",
            "426\n",
            "427\n",
            "428\n",
            "429\n",
            "430\n",
            "431\n",
            "432\n",
            "433\n",
            "434\n",
            "435\n",
            "436\n",
            "437\n",
            "438\n",
            "439\n",
            "440\n",
            "441\n",
            "442\n",
            "443\n",
            "444\n",
            "445\n",
            "446\n",
            "447\n",
            "448\n",
            "449\n",
            "450\n",
            "451\n",
            "452\n",
            "453\n",
            "454\n",
            "455\n",
            "456\n",
            "457\n",
            "458\n",
            "459\n",
            "460\n",
            "461\n",
            "462\n",
            "463\n",
            "464\n",
            "465\n",
            "466\n",
            "467\n",
            "468\n",
            "469\n",
            "470\n",
            "471\n",
            "472\n",
            "473\n",
            "474\n",
            "475\n",
            "476\n",
            "477\n",
            "478\n",
            "479\n",
            "480\n",
            "481\n",
            "482\n",
            "483\n",
            "484\n",
            "485\n",
            "486\n",
            "487\n",
            "488\n",
            "489\n",
            "490\n",
            "491\n",
            "492\n",
            "493\n",
            "494\n",
            "495\n",
            "496\n",
            "497\n",
            "498\n",
            "499\n",
            "500\n",
            "501\n",
            "502\n",
            "503\n",
            "504\n",
            "505\n",
            "506\n",
            "507\n",
            "508\n",
            "509\n",
            "510\n",
            "511\n",
            "512\n",
            "513\n",
            "514\n",
            "515\n",
            "516\n",
            "517\n",
            "518\n",
            "519\n",
            "520\n",
            "521\n",
            "522\n",
            "523\n",
            "524\n",
            "525\n",
            "526\n",
            "527\n",
            "528\n",
            "529\n",
            "530\n",
            "531\n",
            "532\n",
            "533\n",
            "534\n",
            "535\n",
            "536\n",
            "537\n",
            "538\n",
            "539\n",
            "540\n",
            "541\n",
            "542\n",
            "543\n",
            "544\n",
            "545\n",
            "546\n",
            "547\n",
            "548\n",
            "549\n",
            "550\n",
            "551\n",
            "552\n",
            "553\n",
            "554\n",
            "555\n",
            "556\n",
            "557\n",
            "558\n",
            "559\n",
            "560\n",
            "561\n",
            "562\n",
            "563\n",
            "564\n",
            "565\n",
            "566\n",
            "567\n",
            "568\n",
            "569\n",
            "570\n",
            "571\n",
            "572\n",
            "573\n",
            "574\n",
            "575\n",
            "576\n",
            "577\n",
            "578\n",
            "579\n",
            "580\n",
            "581\n",
            "582\n",
            "583\n",
            "584\n",
            "585\n",
            "586\n",
            "587\n",
            "588\n",
            "589\n",
            "590\n",
            "591\n",
            "592\n",
            "593\n",
            "594\n",
            "595\n",
            "596\n",
            "597\n",
            "598\n",
            "599\n",
            "600\n",
            "601\n",
            "602\n",
            "603\n",
            "604\n",
            "605\n",
            "606\n",
            "607\n",
            "608\n",
            "609\n",
            "610\n",
            "611\n",
            "612\n",
            "613\n",
            "614\n",
            "615\n",
            "616\n",
            "617\n",
            "618\n",
            "619\n",
            "620\n",
            "621\n",
            "622\n",
            "623\n",
            "624\n",
            "625\n",
            "626\n",
            "627\n",
            "628\n",
            "629\n",
            "630\n",
            "631\n",
            "632\n",
            "633\n",
            "634\n",
            "635\n",
            "636\n",
            "637\n",
            "638\n",
            "639\n",
            "640\n",
            "641\n",
            "642\n",
            "643\n",
            "644\n",
            "645\n",
            "646\n",
            "647\n",
            "648\n",
            "649\n",
            "650\n",
            "651\n",
            "652\n",
            "653\n",
            "654\n",
            "655\n",
            "656\n",
            "657\n",
            "658\n",
            "659\n",
            "660\n",
            "661\n",
            "662\n",
            "663\n",
            "664\n",
            "665\n",
            "666\n",
            "667\n",
            "668\n",
            "669\n",
            "670\n",
            "671\n",
            "672\n",
            "673\n",
            "674\n",
            "675\n",
            "676\n",
            "677\n",
            "678\n",
            "679\n",
            "680\n",
            "681\n",
            "682\n",
            "683\n",
            "684\n",
            "685\n",
            "686\n",
            "687\n",
            "688\n",
            "689\n",
            "690\n",
            "691\n",
            "692\n",
            "693\n",
            "694\n",
            "695\n",
            "696\n",
            "697\n",
            "698\n",
            "699\n",
            "700\n",
            "701\n",
            "702\n",
            "703\n",
            "704\n",
            "705\n",
            "706\n",
            "707\n",
            "708\n",
            "709\n",
            "710\n",
            "711\n",
            "712\n",
            "713\n",
            "714\n",
            "715\n",
            "716\n",
            "717\n",
            "718\n",
            "719\n",
            "720\n",
            "721\n",
            "722\n",
            "723\n",
            "724\n",
            "725\n",
            "726\n",
            "727\n",
            "728\n",
            "729\n",
            "730\n",
            "731\n",
            "732\n",
            "733\n",
            "734\n",
            "735\n",
            "736\n",
            "737\n",
            "738\n",
            "739\n",
            "740\n",
            "741\n",
            "742\n",
            "743\n",
            "744\n",
            "745\n",
            "746\n",
            "747\n",
            "748\n",
            "749\n",
            "750\n",
            "751\n",
            "752\n",
            "753\n",
            "754\n",
            "755\n",
            "756\n",
            "757\n",
            "758\n",
            "759\n",
            "760\n",
            "761\n",
            "762\n",
            "763\n",
            "764\n",
            "765\n",
            "766\n",
            "767\n",
            "768\n",
            "769\n",
            "770\n",
            "771\n",
            "772\n",
            "773\n",
            "774\n",
            "775\n",
            "776\n",
            "777\n",
            "778\n",
            "779\n",
            "780\n",
            "781\n",
            "782\n",
            "783\n",
            "784\n",
            "785\n",
            "786\n",
            "787\n",
            "788\n",
            "789\n",
            "790\n",
            "791\n",
            "792\n",
            "793\n",
            "794\n",
            "795\n",
            "796\n",
            "797\n",
            "798\n",
            "799\n",
            "800\n",
            "801\n",
            "802\n",
            "803\n",
            "804\n",
            "805\n",
            "806\n",
            "807\n",
            "808\n",
            "809\n",
            "810\n",
            "811\n",
            "812\n",
            "813\n",
            "814\n",
            "815\n",
            "816\n",
            "817\n",
            "818\n",
            "819\n",
            "820\n",
            "821\n",
            "822\n",
            "823\n",
            "824\n",
            "825\n",
            "826\n",
            "827\n",
            "828\n",
            "829\n",
            "830\n",
            "831\n",
            "832\n",
            "833\n",
            "834\n",
            "835\n",
            "836\n",
            "837\n",
            "838\n",
            "839\n",
            "840\n",
            "841\n",
            "842\n",
            "843\n",
            "844\n",
            "845\n",
            "846\n",
            "847\n",
            "848\n",
            "849\n",
            "850\n",
            "851\n",
            "852\n",
            "853\n",
            "854\n",
            "855\n",
            "856\n",
            "857\n",
            "858\n",
            "859\n",
            "860\n",
            "861\n",
            "862\n",
            "863\n",
            "864\n",
            "865\n",
            "866\n",
            "867\n",
            "868\n",
            "869\n",
            "870\n",
            "871\n",
            "872\n",
            "873\n",
            "874\n",
            "875\n",
            "876\n",
            "877\n",
            "878\n",
            "879\n",
            "880\n",
            "881\n",
            "882\n",
            "883\n",
            "884\n",
            "885\n",
            "886\n",
            "887\n",
            "888\n",
            "889\n",
            "890\n",
            "891\n",
            "892\n",
            "893\n",
            "894\n",
            "895\n",
            "896\n",
            "897\n",
            "898\n",
            "899\n",
            "900\n",
            "901\n",
            "902\n",
            "903\n",
            "904\n",
            "905\n",
            "906\n",
            "907\n",
            "908\n",
            "909\n",
            "910\n",
            "911\n",
            "912\n",
            "913\n",
            "914\n",
            "915\n",
            "916\n",
            "917\n",
            "918\n",
            "919\n",
            "920\n",
            "921\n",
            "922\n",
            "923\n",
            "924\n",
            "925\n",
            "926\n",
            "927\n",
            "928\n",
            "929\n",
            "930\n",
            "931\n",
            "932\n",
            "933\n",
            "934\n",
            "935\n",
            "936\n",
            "937\n",
            "938\n",
            "939\n",
            "940\n",
            "941\n",
            "942\n",
            "943\n",
            "944\n",
            "945\n",
            "946\n",
            "947\n",
            "948\n",
            "949\n",
            "950\n",
            "951\n",
            "952\n",
            "953\n",
            "954\n",
            "955\n",
            "956\n",
            "957\n",
            "958\n",
            "959\n",
            "960\n",
            "961\n",
            "962\n",
            "963\n",
            "964\n",
            "965\n",
            "966\n",
            "967\n",
            "968\n",
            "969\n",
            "970\n",
            "971\n",
            "972\n",
            "973\n",
            "974\n",
            "975\n",
            "976\n",
            "977\n",
            "978\n",
            "979\n",
            "980\n",
            "981\n",
            "982\n",
            "983\n",
            "984\n",
            "985\n",
            "986\n",
            "987\n",
            "988\n",
            "989\n",
            "990\n",
            "991\n",
            "992\n",
            "993\n",
            "994\n",
            "995\n",
            "996\n",
            "997\n",
            "998\n",
            "999\n"
          ]
        }
      ]
    },
    {
      "cell_type": "code",
      "metadata": {
        "id": "NO9Owbktw6bp"
      },
      "source": [
        "print(f\"Baseline Model evaluation:\")\n",
        "avg_length, distinct1, distinct2 = evaluate_diversity(baseline_model)\n",
        "print(f\"Greedy decoding:\")\n",
        "print(f\"Avg Response Length = {avg_length}\")\n",
        "print(f\"Distinct1 = {distinct1}\")\n",
        "print(f\"Distinct2 = {distinct2}\")\n",
        "avg_length, distinct1, distinct2 = evaluate_diversity(baseline_model, mode='beam')\n",
        "print(f\"Beam search decoding:\")\n",
        "print(f\"Avg Response Length = {avg_length}\")\n",
        "print(f\"Distinct1 = {distinct1}\")\n",
        "print(f\"Distinct2 = {distinct2}\")\n",
        "print(f\"Attention Model evaluation:\")\n",
        "avg_length, distinct1, distinct2 = evaluate_diversity(attention_model,)\n",
        "print(f\"Greedy decoding:\")\n",
        "print(f\"Avg Response Length = {avg_length}\")\n",
        "print(f\"Distinct1 = {distinct1}\")\n",
        "print(f\"Distinct2 = {distinct2}\")\n",
        "avg_length, distinct1, distinct2 = evaluate_diversity(attention_model, mode='beam')\n",
        "print(f\"Greedy decoding:\")\n",
        "print(f\"Avg Response Length = {avg_length}\")\n",
        "print(f\"Distinct1 = {distinct1}\")\n",
        "print(f\"Distinct2 = {distinct2}\")"
      ],
      "execution_count": null,
      "outputs": []
    },
    {
      "cell_type": "markdown",
      "metadata": {
        "id": "xBXn697mBKDl"
      },
      "source": [
        "## What to turn in?\n",
        "\n",
        "When you are done, make sure to run all the cells in your solution (including your conversation with the chatbot), and submit your notebook `NLP_Fall_2022_Project_3.ipynb` to Gradescope.\n",
        "\n",
        "\n",
        "**When submitting the .ipynb notebook, please make sure that all the cells are run and up-to-date with the outputs and accuracies. Also please ensure that the PDF version is up-to-date with the notebook. We will use both for grading.** If the code doesn't take too long to run, you can re-run everything with `Runtime -> Restart and run all`\n",
        "\n",
        "You can submit multiple times before the deadline and choose the submission which you want to be graded by going to `Submission History` on gradescope."
      ]
    },
    {
      "cell_type": "code",
      "source": [],
      "metadata": {
        "id": "gGW6rJCdqTb7"
      },
      "execution_count": null,
      "outputs": []
    }
  ]
}